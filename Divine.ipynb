{
 "cells": [
  {
   "cell_type": "markdown",
   "metadata": {},
   "source": [
    "**Importing Libraries**"
   ]
  },
  {
   "cell_type": "code",
   "execution_count": 42,
   "metadata": {},
   "outputs": [],
   "source": [
    "from IPython.display import Markdown, display\n",
    "\n",
    "# Essential libraries for data manipulation and analysis\n",
    "import pandas as pd\n",
    "import numpy as np\n",
    "\n",
    "# Libraries for visualization\n",
    "import matplotlib.pyplot as plt\n",
    "import seaborn as sns\n",
    "\n",
    "# Libraries for interactive visualizations\n",
    "import plotly.express as px\n",
    "import plotly.graph_objects as go"
   ]
  },
  {
   "cell_type": "markdown",
   "metadata": {},
   "source": [
    "**Data Oview and Loading**\n",
    "\n",
    "This section loads the dataset and provides an initial overview of the data. The first few rows are displayed, and the structure of the dataset, including the number of rows, columns, and their data types, is analyzed\n"
   ]
  },
  {
   "cell_type": "code",
   "execution_count": 43,
   "metadata": {},
   "outputs": [
    {
     "name": "stdout",
     "output_type": "stream",
     "text": [
      "First Few Rows of Data:\n",
      "   gender race/ethnicity parental level of education         lunch  \\\n",
      "0  female        group B           bachelor's degree      standard   \n",
      "1  female        group C                some college      standard   \n",
      "2  female        group B             master's degree      standard   \n",
      "3    male        group A          associate's degree  free/reduced   \n",
      "4    male        group C                some college      standard   \n",
      "\n",
      "  test preparation course  math score  reading score  writing score  \n",
      "0                    none          72             72             74  \n",
      "1               completed          69             90             88  \n",
      "2                    none          90             95             93  \n",
      "3                    none          47             57             44  \n",
      "4                    none          76             78             75  \n",
      "First Few Rows of Data:\n",
      "   gender race/ethnicity parental level of education         lunch  \\\n",
      "0  female        group B           bachelor's degree      standard   \n",
      "1  female        group C                some college      standard   \n",
      "2  female        group B             master's degree      standard   \n",
      "3    male        group A          associate's degree  free/reduced   \n",
      "4    male        group C                some college      standard   \n",
      "\n",
      "  test preparation course  math score  reading score  writing score  \n",
      "0                    none          72             72             74  \n",
      "1               completed          69             90             88  \n",
      "2                    none          90             95             93  \n",
      "3                    none          47             57             44  \n",
      "4                    none          76             78             75  \n",
      "<class 'pandas.core.frame.DataFrame'>\n",
      "RangeIndex: 1000 entries, 0 to 999\n",
      "Data columns (total 8 columns):\n",
      " #   Column                       Non-Null Count  Dtype \n",
      "---  ------                       --------------  ----- \n",
      " 0   gender                       1000 non-null   object\n",
      " 1   race/ethnicity               1000 non-null   object\n",
      " 2   parental level of education  1000 non-null   object\n",
      " 3   lunch                        1000 non-null   object\n",
      " 4   test preparation course      1000 non-null   object\n",
      " 5   math score                   1000 non-null   int64 \n",
      " 6   reading score                1000 non-null   int64 \n",
      " 7   writing score                1000 non-null   int64 \n",
      "dtypes: int64(3), object(5)\n",
      "memory usage: 62.6+ KB\n",
      "The dataset has 1000 rows and 8 columns.\n",
      "Data Types:\n",
      " gender                         object\n",
      "race/ethnicity                 object\n",
      "parental level of education    object\n",
      "lunch                          object\n",
      "test preparation course        object\n",
      "math score                      int64\n",
      "reading score                   int64\n",
      "writing score                   int64\n",
      "dtype: object\n"
     ]
    }
   ],
   "source": [
    "# Define the path to your dataset\n",
    "file_path = r\"C:\\Users\\Divine Favour\\Desktop\\Python Eva\\StudentsPerformance.csv\"\n",
    "\n",
    "# Load the dataset\n",
    "data = pd.read_csv(file_path)\n",
    "\n",
    "# Display the first few rows of the dataset\n",
    "print(\"First Few Rows of Data:\")\n",
    "print(data.head())\n",
    "\n",
    "\n",
    "# Display the first few rows of the dataset\n",
    "print(\"First Few Rows of Data:\")\n",
    "print(data.head())\n",
    "\n",
    "# Display general information about the dataset\n",
    "data.info()\n",
    "\n",
    "# Get the number of rows and columns\n",
    "rows, cols = data.shape\n",
    "#Number of rows and columns\n",
    "print(f\"The dataset has {rows} rows and {cols} columns.\")\n",
    "\n",
    "# Display data types of the columns\n",
    "print(\"Data Types:\\n\", data.dtypes)\n",
    "\n"
   ]
  },
  {
   "cell_type": "markdown",
   "metadata": {},
   "source": []
  },
  {
   "cell_type": "markdown",
   "metadata": {},
   "source": [
    "**Missing Values Check**\n",
    "\n",
    "In this step, I checked for any missing values in the dataset. It is important to identify if any columns have missing data before proceeding with analysis or visualizations."
   ]
  },
  {
   "cell_type": "code",
   "execution_count": 44,
   "metadata": {},
   "outputs": [
    {
     "name": "stdout",
     "output_type": "stream",
     "text": [
      "\n",
      "Missing Values:\n",
      " gender                         0\n",
      "race/ethnicity                 0\n",
      "parental level of education    0\n",
      "lunch                          0\n",
      "test preparation course        0\n",
      "math score                     0\n",
      "reading score                  0\n",
      "writing score                  0\n",
      "dtype: int64\n"
     ]
    }
   ],
   "source": [
    "# Check for missing values\n",
    "missing_values = data.isnull().sum()\n",
    "print(\"\\nMissing Values:\\n\", missing_values)"
   ]
  },
  {
   "cell_type": "markdown",
   "metadata": {},
   "source": [
    "**Descriptive Statistics**\n",
    "\n",
    "I explored the descriptive statistics of the dataset, including the summary of numerical columns like the mean, median, and standard deviation. This helps us understand the overall distribution of the scores.\n"
   ]
  },
  {
   "cell_type": "code",
   "execution_count": 45,
   "metadata": {},
   "outputs": [
    {
     "data": {
      "text/html": [
       "<div>\n",
       "<style scoped>\n",
       "    .dataframe tbody tr th:only-of-type {\n",
       "        vertical-align: middle;\n",
       "    }\n",
       "\n",
       "    .dataframe tbody tr th {\n",
       "        vertical-align: top;\n",
       "    }\n",
       "\n",
       "    .dataframe thead th {\n",
       "        text-align: right;\n",
       "    }\n",
       "</style>\n",
       "<table border=\"1\" class=\"dataframe\">\n",
       "  <thead>\n",
       "    <tr style=\"text-align: right;\">\n",
       "      <th></th>\n",
       "      <th>math score</th>\n",
       "      <th>reading score</th>\n",
       "      <th>writing score</th>\n",
       "    </tr>\n",
       "  </thead>\n",
       "  <tbody>\n",
       "    <tr>\n",
       "      <th>count</th>\n",
       "      <td>1000.00000</td>\n",
       "      <td>1000.000000</td>\n",
       "      <td>1000.000000</td>\n",
       "    </tr>\n",
       "    <tr>\n",
       "      <th>mean</th>\n",
       "      <td>66.08900</td>\n",
       "      <td>69.169000</td>\n",
       "      <td>68.054000</td>\n",
       "    </tr>\n",
       "    <tr>\n",
       "      <th>std</th>\n",
       "      <td>15.16308</td>\n",
       "      <td>14.600192</td>\n",
       "      <td>15.195657</td>\n",
       "    </tr>\n",
       "    <tr>\n",
       "      <th>min</th>\n",
       "      <td>0.00000</td>\n",
       "      <td>17.000000</td>\n",
       "      <td>10.000000</td>\n",
       "    </tr>\n",
       "    <tr>\n",
       "      <th>25%</th>\n",
       "      <td>57.00000</td>\n",
       "      <td>59.000000</td>\n",
       "      <td>57.750000</td>\n",
       "    </tr>\n",
       "    <tr>\n",
       "      <th>50%</th>\n",
       "      <td>66.00000</td>\n",
       "      <td>70.000000</td>\n",
       "      <td>69.000000</td>\n",
       "    </tr>\n",
       "    <tr>\n",
       "      <th>75%</th>\n",
       "      <td>77.00000</td>\n",
       "      <td>79.000000</td>\n",
       "      <td>79.000000</td>\n",
       "    </tr>\n",
       "    <tr>\n",
       "      <th>max</th>\n",
       "      <td>100.00000</td>\n",
       "      <td>100.000000</td>\n",
       "      <td>100.000000</td>\n",
       "    </tr>\n",
       "  </tbody>\n",
       "</table>\n",
       "</div>"
      ],
      "text/plain": [
       "       math score  reading score  writing score\n",
       "count  1000.00000    1000.000000    1000.000000\n",
       "mean     66.08900      69.169000      68.054000\n",
       "std      15.16308      14.600192      15.195657\n",
       "min       0.00000      17.000000      10.000000\n",
       "25%      57.00000      59.000000      57.750000\n",
       "50%      66.00000      70.000000      69.000000\n",
       "75%      77.00000      79.000000      79.000000\n",
       "max     100.00000     100.000000     100.000000"
      ]
     },
     "execution_count": 45,
     "metadata": {},
     "output_type": "execute_result"
    }
   ],
   "source": [
    "\n",
    "# Display basic statistics\n",
    "data.describe()\n"
   ]
  },
  {
   "cell_type": "markdown",
   "metadata": {},
   "source": [
    "**Visualization : Static Histogram**\n",
    "\n",
    "In this part, I generate a static histogram to visualize the distribution of a numerical column, such as the math score. This plot allows us to see the frequency distribution of the values and identify any patterns or anomalies in the data."
   ]
  },
  {
   "cell_type": "code",
   "execution_count": 46,
   "metadata": {},
   "outputs": [
    {
     "data": {
      "image/png": "[encoded data removed]",
      "text/plain": [
       "<Figure size 1200x1000 with 4 Axes>"
      ]
     },
     "metadata": {},
     "output_type": "display_data"
    }
   ],
   "source": [
    "# Plot histograms for numerical columns\n",
    "data.hist(figsize=(12, 10), bins=20)\n",
    "plt.suptitle(\"Distribution of Numerical Features\")\n",
    "plt.tight_layout()\n",
    "plt.show()\n"
   ]
  },
  {
   "cell_type": "markdown",
   "metadata": {},
   "source": [
    "**Visualization : Static Correlation Heatmap**\n",
    "\n",
    "A correlation heatmap is generated to visualize the relationships between the numeric columns (math score, reading score, and writing score). This helps in understanding how these variables are correlated with each other."
   ]
  },
  {
   "cell_type": "code",
   "execution_count": 47,
   "metadata": {},
   "outputs": [
    {
     "data": {
      "image/png": "[encoded data removed]",
      "text/plain": [
       "<Figure size 1000x800 with 2 Axes>"
      ]
     },
     "metadata": {},
     "output_type": "display_data"
    }
   ],
   "source": [
    "# Select only numerical columns for correlation\n",
    "numerical_data = data.select_dtypes(include=['number'])\n",
    "\n",
    "# Generate a heatmap for correlations\n",
    "plt.figure(figsize=(10, 8))\n",
    "sns.heatmap(numerical_data.corr(), annot=True, cmap=\"coolwarm\", fmt=\".2f\")\n",
    "plt.title(\"Correlation Matrix\")\n",
    "plt.show()\n"
   ]
  },
  {
   "cell_type": "markdown",
   "metadata": {},
   "source": [
    "**Visualization : Static Boxplots**\n",
    "\n",
    "In this part, I generated boxplots to detect any outliers in the numerical columns. Boxplots help visualize the distribution of scores and highlight any extreme values that might need further investigation."
   ]
  },
  {
   "cell_type": "code",
   "execution_count": 48,
   "metadata": {},
   "outputs": [
    {
     "data": {
      "image/png": "[encoded data removed]",
      "text/plain": [
       "<Figure size 800x600 with 1 Axes>"
      ]
     },
     "metadata": {},
     "output_type": "display_data"
    },
    {
     "data": {
      "image/png": "[encoded data removed]",
      "text/plain": [
       "<Figure size 800x600 with 1 Axes>"
      ]
     },
     "metadata": {},
     "output_type": "display_data"
    },
    {
     "data": {
      "image/png": "[encoded data removed]",
      "text/plain": [
       "<Figure size 800x600 with 1 Axes>"
      ]
     },
     "metadata": {},
     "output_type": "display_data"
    }
   ],
   "source": [
    "# Boxplots for all numerical columns\n",
    "numerical_columns = ['math score', 'reading score', 'writing score']\n",
    "for column in numerical_columns:\n",
    "    plt.figure(figsize=(8, 6))\n",
    "    sns.boxplot(x=data[column])\n",
    "    plt.title(f\"Boxplot for {column} Outlier Detection\")\n",
    "    plt.show()\n"
   ]
  },
  {
   "cell_type": "markdown",
   "metadata": {},
   "source": [
    "**Visualizations: Interactive Scatter Plot**\n",
    "\n",
    "An interactive scatter plot is created to analyze the relationship between two numerical columns (e.g., math and reading scores), with points colored based on a categorical column, such as gender. This plot provides an intuitive way to explore the data."
   ]
  },
  {
   "cell_type": "code",
   "execution_count": 49,
   "metadata": {},
   "outputs": [
    {
     "data": {
      "application/vnd.plotly.v1+json": {
       "config": {
        "plotlyServerURL": "https://plot.ly"
       },
       "data": [
        {
         "hovertemplate": "gender=female<br>math score=%{x}<br>reading score=%{y}<extra></extra>",
         "legendgroup": "female",
         "marker": {
          "color": "#636efa",
          "symbol": "circle"
         },
         "mode": "markers",
         "name": "female",
         "orientation": "v",
         "showlegend": true,
         "type": "scatter",
         "x": [
          72,
          69,
          90,
          71,
          88,
          38,
          65,
          50,
          69,
          18,
          54,
          65,
          69,
          67,
          62,
          69,
          63,
          56,
          74,
          50,
          75,
          58,
          53,
          50,
          55,
          66,
          57,
          71,
          33,
          82,
          0,
          69,
          59,
          60,
          39,
          58,
          41,
          61,
          62,
          47,
          73,
          76,
          71,
          58,
          73,
          65,
          79,
          63,
          58,
          65,
          85,
          58,
          87,
          52,
          70,
          77,
          51,
          99,
          75,
          78,
          51,
          55,
          79,
          88,
          87,
          51,
          75,
          59,
          76,
          59,
          42,
          22,
          68,
          59,
          70,
          66,
          61,
          75,
          81,
          96,
          58,
          68,
          67,
          79,
          63,
          43,
          81,
          46,
          71,
          52,
          97,
          46,
          50,
          65,
          77,
          66,
          62,
          69,
          45,
          78,
          67,
          65,
          57,
          74,
          58,
          42,
          83,
          34,
          56,
          55,
          52,
          45,
          72,
          88,
          67,
          64,
          80,
          56,
          58,
          65,
          71,
          60,
          62,
          64,
          70,
          65,
          64,
          44,
          99,
          63,
          69,
          88,
          71,
          47,
          65,
          85,
          59,
          65,
          73,
          70,
          37,
          67,
          65,
          67,
          74,
          53,
          49,
          73,
          68,
          59,
          77,
          56,
          67,
          75,
          71,
          43,
          41,
          82,
          41,
          83,
          61,
          24,
          35,
          61,
          69,
          72,
          77,
          52,
          63,
          46,
          59,
          61,
          42,
          80,
          58,
          52,
          27,
          44,
          73,
          45,
          82,
          59,
          80,
          85,
          71,
          80,
          38,
          38,
          67,
          64,
          57,
          62,
          77,
          65,
          50,
          85,
          59,
          49,
          88,
          54,
          63,
          82,
          52,
          70,
          51,
          82,
          57,
          47,
          59,
          62,
          61,
          47,
          67,
          78,
          59,
          73,
          67,
          64,
          100,
          65,
          53,
          79,
          100,
          71,
          77,
          84,
          26,
          77,
          83,
          63,
          68,
          59,
          90,
          71,
          55,
          52,
          49,
          60,
          65,
          64,
          83,
          81,
          54,
          54,
          59,
          66,
          74,
          94,
          95,
          40,
          82,
          86,
          54,
          77,
          76,
          74,
          66,
          66,
          67,
          91,
          36,
          29,
          62,
          68,
          47,
          79,
          66,
          51,
          81,
          82,
          64,
          92,
          62,
          40,
          32,
          55,
          53,
          74,
          63,
          63,
          92,
          61,
          53,
          50,
          74,
          81,
          48,
          53,
          81,
          77,
          63,
          73,
          69,
          65,
          55,
          44,
          54,
          48,
          74,
          92,
          56,
          69,
          65,
          54,
          29,
          76,
          85,
          40,
          61,
          58,
          58,
          65,
          82,
          60,
          37,
          35,
          61,
          44,
          66,
          75,
          67,
          80,
          76,
          74,
          72,
          74,
          65,
          59,
          64,
          50,
          69,
          68,
          85,
          65,
          73,
          62,
          43,
          55,
          65,
          50,
          63,
          77,
          66,
          69,
          65,
          69,
          50,
          73,
          70,
          67,
          29,
          94,
          49,
          73,
          66,
          77,
          49,
          79,
          75,
          59,
          57,
          79,
          57,
          63,
          59,
          42,
          80,
          98,
          60,
          76,
          96,
          76,
          62,
          74,
          65,
          73,
          68,
          87,
          53,
          53,
          37,
          81,
          59,
          50,
          77,
          84,
          52,
          53,
          48,
          62,
          74,
          58,
          68,
          52,
          62,
          49,
          66,
          35,
          72,
          46,
          77,
          76,
          52,
          32,
          72,
          19,
          52,
          48,
          60,
          42,
          57,
          70,
          52,
          87,
          82,
          73,
          64,
          41,
          54,
          72,
          45,
          60,
          77,
          85,
          78,
          71,
          48,
          56,
          65,
          69,
          61,
          74,
          77,
          60,
          75,
          66,
          39,
          23,
          40,
          59,
          61,
          87,
          97,
          65,
          53,
          81,
          71,
          70,
          43,
          59,
          64,
          71,
          64,
          51,
          62,
          93,
          69,
          86,
          85,
          50,
          59,
          32,
          63,
          65,
          73,
          34,
          93,
          67,
          79,
          67,
          69,
          52,
          47,
          46,
          68,
          44,
          57,
          35,
          54,
          65,
          48,
          57,
          78,
          58,
          54,
          49,
          57,
          75,
          74,
          62,
          92,
          45,
          56,
          48,
          100,
          65,
          62,
          68,
          75,
          89,
          53,
          49,
          54,
          64,
          91,
          8,
          78,
          74,
          40,
          44,
          67,
          65,
          55,
          62,
          88,
          59,
          68,
          77
         ],
         "xaxis": "x",
         "y": [
          72,
          90,
          95,
          83,
          95,
          60,
          81,
          53,
          75,
          32,
          58,
          75,
          73,
          69,
          70,
          74,
          65,
          72,
          81,
          64,
          90,
          73,
          58,
          56,
          65,
          71,
          74,
          84,
          41,
          85,
          17,
          80,
          58,
          72,
          64,
          63,
          51,
          74,
          68,
          49,
          80,
          83,
          71,
          70,
          86,
          72,
          86,
          72,
          67,
          67,
          91,
          67,
          100,
          76,
          64,
          89,
          58,
          100,
          85,
          82,
          63,
          69,
          92,
          93,
          95,
          49,
          81,
          66,
          72,
          62,
          55,
          39,
          75,
          70,
          89,
          74,
          86,
          88,
          92,
          100,
          76,
          83,
          75,
          86,
          67,
          51,
          91,
          54,
          77,
          70,
          100,
          64,
          50,
          69,
          88,
          65,
          64,
          84,
          53,
          79,
          84,
          81,
          69,
          81,
          61,
          62,
          86,
          42,
          68,
          65,
          66,
          56,
          72,
          95,
          86,
          60,
          83,
          52,
          70,
          64,
          83,
          70,
          73,
          73,
          75,
          81,
          79,
          50,
          93,
          75,
          72,
          92,
          76,
          53,
          70,
          92,
          63,
          86,
          79,
          78,
          46,
          89,
          73,
          84,
          75,
          71,
          57,
          76,
          67,
          64,
          82,
          65,
          79,
          86,
          81,
          53,
          46,
          90,
          55,
          93,
          68,
          38,
          55,
          73,
          76,
          80,
          94,
          65,
          78,
          58,
          71,
          72,
          66,
          90,
          62,
          58,
          34,
          64,
          84,
          73,
          97,
          70,
          90,
          95,
          83,
          86,
          49,
          43,
          76,
          73,
          78,
          64,
          68,
          74,
          67,
          89,
          54,
          65,
          99,
          59,
          73,
          80,
          57,
          71,
          72,
          93,
          58,
          58,
          85,
          67,
          72,
          59,
          81,
          81,
          73,
          83,
          74,
          85,
          92,
          77,
          61,
          89,
          100,
          70,
          90,
          87,
          31,
          88,
          85,
          69,
          86,
          67,
          90,
          76,
          64,
          59,
          52,
          75,
          85,
          64,
          83,
          88,
          64,
          48,
          78,
          69,
          79,
          87,
          89,
          59,
          82,
          92,
          61,
          97,
          87,
          89,
          74,
          78,
          78,
          86,
          53,
          41,
          74,
          67,
          54,
          88,
          83,
          66,
          77,
          95,
          63,
          100,
          67,
          48,
          39,
          72,
          70,
          75,
          74,
          80,
          100,
          71,
          62,
          66,
          81,
          91,
          56,
          61,
          97,
          79,
          73,
          75,
          77,
          76,
          73,
          63,
          64,
          66,
          76,
          100,
          79,
          77,
          82,
          60,
          29,
          78,
          84,
          58,
          64,
          63,
          59,
          77,
          93,
          68,
          45,
          61,
          58,
          51,
          74,
          88,
          80,
          92,
          74,
          88,
          81,
          79,
          81,
          70,
          62,
          53,
          79,
          80,
          86,
          70,
          79,
          67,
          60,
          71,
          69,
          60,
          73,
          85,
          76,
          78,
          84,
          77,
          64,
          78,
          82,
          72,
          40,
          99,
          53,
          76,
          74,
          77,
          63,
          89,
          82,
          72,
          78,
          81,
          67,
          64,
          63,
          61,
          85,
          100,
          70,
          94,
          96,
          76,
          72,
          90,
          75,
          92,
          77,
          89,
          58,
          66,
          57,
          84,
          73,
          60,
          90,
          95,
          59,
          72,
          58,
          62,
          72,
          75,
          71,
          67,
          78,
          58,
          72,
          44,
          79,
          56,
          90,
          85,
          59,
          51,
          79,
          38,
          65,
          62,
          66,
          52,
          68,
          84,
          55,
          94,
          85,
          76,
          74,
          45,
          64,
          80,
          59,
          72,
          91,
          90,
          90,
          87,
          58,
          68,
          69,
          86,
          60,
          86,
          82,
          64,
          82,
          77,
          52,
          44,
          65,
          72,
          68,
          85,
          97,
          79,
          62,
          86,
          71,
          72,
          62,
          72,
          76,
          70,
          73,
          51,
          76,
          100,
          65,
          85,
          92,
          67,
          62,
          34,
          78,
          78,
          78,
          48,
          100,
          84,
          84,
          75,
          84,
          61,
          62,
          61,
          70,
          61,
          77,
          53,
          65,
          61,
          56,
          58,
          91,
          68,
          61,
          58,
          75,
          77,
          74,
          69,
          100,
          63,
          58,
          54,
          100,
          76,
          70,
          76,
          84,
          100,
          50,
          65,
          63,
          82,
          95,
          24,
          87,
          75,
          59,
          45,
          86,
          82,
          76,
          72,
          99,
          71,
          78,
          86
         ],
         "yaxis": "y"
        },
        {
         "hovertemplate": "gender=male<br>math score=%{x}<br>reading score=%{y}<extra></extra>",
         "legendgroup": "male",
         "marker": {
          "color": "#EF553B",
          "symbol": "circle"
         },
         "mode": "markers",
         "name": "male",
         "orientation": "v",
         "showlegend": true,
         "type": "scatter",
         "x": [
          47,
          76,
          40,
          64,
          58,
          40,
          78,
          88,
          46,
          66,
          44,
          74,
          73,
          69,
          70,
          40,
          97,
          81,
          57,
          55,
          59,
          65,
          82,
          53,
          77,
          53,
          88,
          52,
          58,
          79,
          39,
          62,
          67,
          45,
          61,
          63,
          61,
          49,
          44,
          30,
          80,
          49,
          50,
          72,
          42,
          27,
          71,
          43,
          78,
          65,
          79,
          68,
          60,
          98,
          66,
          62,
          54,
          84,
          91,
          63,
          83,
          72,
          65,
          82,
          89,
          53,
          87,
          74,
          58,
          51,
          70,
          71,
          57,
          88,
          88,
          73,
          100,
          62,
          77,
          54,
          62,
          60,
          66,
          82,
          49,
          52,
          53,
          72,
          94,
          62,
          45,
          65,
          80,
          62,
          48,
          76,
          77,
          61,
          59,
          55,
          69,
          59,
          74,
          82,
          81,
          80,
          35,
          60,
          87,
          84,
          66,
          61,
          87,
          86,
          57,
          68,
          76,
          46,
          92,
          83,
          80,
          63,
          54,
          84,
          73,
          59,
          75,
          85,
          89,
          68,
          47,
          80,
          54,
          78,
          79,
          76,
          59,
          69,
          58,
          88,
          83,
          73,
          53,
          45,
          81,
          97,
          88,
          77,
          76,
          86,
          63,
          78,
          67,
          46,
          71,
          40,
          90,
          81,
          56,
          80,
          69,
          99,
          51,
          66,
          67,
          71,
          83,
          63,
          61,
          28,
          82,
          71,
          47,
          62,
          90,
          76,
          49,
          58,
          67,
          79,
          62,
          75,
          87,
          66,
          63,
          59,
          85,
          59,
          49,
          69,
          61,
          84,
          74,
          46,
          66,
          87,
          79,
          73,
          73,
          76,
          57,
          48,
          74,
          60,
          53,
          65,
          87,
          84,
          71,
          63,
          84,
          71,
          74,
          68,
          57,
          41,
          86,
          69,
          65,
          68,
          64,
          61,
          73,
          50,
          75,
          75,
          70,
          89,
          79,
          69,
          86,
          47,
          81,
          65,
          37,
          53,
          72,
          53,
          54,
          75,
          72,
          91,
          76,
          80,
          76,
          73,
          68,
          59,
          70,
          61,
          64,
          79,
          68,
          76,
          63,
          68,
          55,
          79,
          76,
          64,
          62,
          71,
          69,
          54,
          53,
          68,
          56,
          62,
          73,
          51,
          85,
          97,
          75,
          79,
          78,
          72,
          79,
          79,
          87,
          77,
          53,
          61,
          73,
          96,
          48,
          48,
          63,
          68,
          71,
          91,
          40,
          61,
          58,
          71,
          68,
          30,
          53,
          60,
          84,
          75,
          69,
          94,
          88,
          95,
          65,
          62,
          58,
          100,
          100,
          69,
          61,
          49,
          67,
          79,
          84,
          71,
          86,
          41,
          70,
          51,
          77,
          69,
          90,
          74,
          73,
          80,
          73,
          81,
          52,
          81,
          63,
          60,
          62,
          62,
          85,
          77,
          53,
          93,
          66,
          87,
          62,
          46,
          66,
          89,
          93,
          81,
          73,
          91,
          55,
          50,
          47,
          81,
          68,
          53,
          55,
          55,
          67,
          92,
          81,
          61,
          80,
          55,
          72,
          69,
          69,
          87,
          71,
          68,
          79,
          58,
          55,
          70,
          69,
          78,
          60,
          76,
          58,
          52,
          75,
          66,
          94,
          91,
          68,
          66,
          89,
          70,
          69,
          67,
          76,
          75,
          90,
          59,
          51,
          45,
          87,
          94,
          61,
          49,
          62,
          68,
          64,
          58,
          73,
          58,
          64,
          74,
          90,
          91,
          64,
          80,
          71,
          82,
          62,
          75,
          52,
          87,
          39,
          97,
          82,
          59,
          61,
          78,
          49,
          59,
          82,
          90,
          80,
          81,
          57,
          63,
          55,
          54,
          44,
          88,
          36,
          67,
          85,
          88,
          57,
          70,
          50,
          100,
          91,
          69,
          72,
          74,
          74,
          64,
          46,
          67,
          62,
          61,
          70,
          98,
          70,
          67,
          85,
          77,
          72,
          81,
          61,
          82,
          49,
          94,
          58,
          72,
          84,
          75,
          72,
          66,
          63,
          78,
          60,
          62,
          55,
          81,
          79,
          57,
          81,
          86,
          63,
          62
         ],
         "xaxis": "x",
         "y": [
          57,
          78,
          43,
          64,
          54,
          52,
          72,
          89,
          42,
          69,
          54,
          71,
          74,
          54,
          70,
          42,
          87,
          81,
          56,
          61,
          65,
          54,
          84,
          55,
          69,
          44,
          78,
          55,
          59,
          74,
          39,
          61,
          64,
          37,
          58,
          55,
          57,
          49,
          41,
          26,
          78,
          45,
          47,
          64,
          39,
          34,
          79,
          45,
          81,
          66,
          67,
          74,
          44,
          86,
          63,
          55,
          53,
          77,
          89,
          57,
          80,
          68,
          77,
          82,
          84,
          37,
          74,
          79,
          55,
          54,
          55,
          61,
          43,
          73,
          84,
          68,
          100,
          67,
          67,
          49,
          67,
          60,
          62,
          78,
          53,
          53,
          51,
          73,
          88,
          68,
          52,
          67,
          76,
          66,
          52,
          83,
          62,
          55,
          69,
          56,
          77,
          41,
          71,
          62,
          80,
          79,
          28,
          51,
          91,
          83,
          77,
          56,
          85,
          80,
          50,
          72,
          64,
          43,
          87,
          82,
          75,
          66,
          52,
          80,
          68,
          51,
          74,
          76,
          76,
          60,
          49,
          80,
          52,
          77,
          79,
          73,
          42,
          63,
          49,
          85,
          78,
          56,
          52,
          48,
          82,
          82,
          75,
          76,
          70,
          73,
          60,
          77,
          62,
          41,
          74,
          46,
          87,
          78,
          54,
          76,
          67,
          87,
          52,
          60,
          61,
          66,
          72,
          71,
          61,
          23,
          75,
          60,
          37,
          56,
          78,
          70,
          51,
          61,
          72,
          73,
          61,
          74,
          74,
          57,
          61,
          62,
          84,
          60,
          58,
          58,
          66,
          77,
          74,
          43,
          64,
          100,
          81,
          70,
          67,
          67,
          54,
          45,
          63,
          59,
          43,
          65,
          84,
          83,
          66,
          67,
          73,
          74,
          73,
          59,
          56,
          39,
          83,
          71,
          59,
          63,
          66,
          56,
          66,
          48,
          68,
          66,
          56,
          88,
          82,
          66,
          81,
          46,
          73,
          58,
          56,
          54,
          65,
          58,
          54,
          58,
          67,
          74,
          62,
          68,
          71,
          71,
          68,
          52,
          74,
          47,
          53,
          82,
          64,
          71,
          61,
          70,
          59,
          78,
          71,
          50,
          49,
          49,
          58,
          59,
          52,
          60,
          61,
          61,
          69,
          60,
          66,
          92,
          69,
          82,
          83,
          67,
          72,
          76,
          90,
          62,
          45,
          67,
          66,
          90,
          51,
          43,
          48,
          68,
          75,
          96,
          55,
          51,
          57,
          62,
          68,
          24,
          54,
          57,
          89,
          72,
          60,
          90,
          78,
          81,
          73,
          63,
          51,
          96,
          97,
          70,
          48,
          57,
          64,
          60,
          84,
          74,
          76,
          52,
          65,
          56,
          67,
          66,
          87,
          77,
          66,
          63,
          74,
          72,
          57,
          75,
          61,
          68,
          55,
          66,
          75,
          78,
          58,
          90,
          66,
          84,
          72,
          34,
          59,
          87,
          84,
          81,
          78,
          73,
          59,
          48,
          43,
          74,
          51,
          39,
          46,
          47,
          57,
          79,
          71,
          60,
          73,
          55,
          79,
          75,
          64,
          84,
          69,
          72,
          77,
          55,
          58,
          68,
          77,
          81,
          63,
          62,
          60,
          48,
          73,
          65,
          85,
          81,
          65,
          74,
          84,
          70,
          60,
          73,
          80,
          81,
          75,
          54,
          31,
          47,
          84,
          86,
          70,
          52,
          67,
          54,
          60,
          50,
          64,
          57,
          58,
          77,
          85,
          85,
          54,
          75,
          67,
          67,
          64,
          68,
          49,
          73,
          42,
          93,
          82,
          53,
          42,
          74,
          51,
          58,
          84,
          90,
          64,
          82,
          61,
          64,
          46,
          72,
          51,
          74,
          29,
          54,
          84,
          77,
          48,
          64,
          42,
          100,
          96,
          70,
          66,
          70,
          64,
          56,
          43,
          74,
          57,
          71,
          75,
          87,
          63,
          57,
          81,
          68,
          66,
          66,
          62,
          82,
          50,
          73,
          52,
          57,
          87,
          81,
          57,
          68,
          63,
          72,
          62,
          65,
          41,
          78,
          85,
          51,
          75,
          81,
          63,
          55
         ],
         "yaxis": "y"
        }
       ],
       "layout": {
        "legend": {
         "title": {
          "text": "gender"
         },
         "tracegroupgap": 0
        },
        "template": {
         "data": {
          "bar": [
           {
            "error_x": {
             "color": "#2a3f5f"
            },
            "error_y": {
             "color": "#2a3f5f"
            },
            "marker": {
             "line": {
              "color": "#E5ECF6",
              "width": 0.5
             },
             "pattern": {
              "fillmode": "overlay",
              "size": 10,
              "solidity": 0.2
             }
            },
            "type": "bar"
           }
          ],
          "barpolar": [
           {
            "marker": {
             "line": {
              "color": "#E5ECF6",
              "width": 0.5
             },
             "pattern": {
              "fillmode": "overlay",
              "size": 10,
              "solidity": 0.2
             }
            },
            "type": "barpolar"
           }
          ],
          "carpet": [
           {
            "aaxis": {
             "endlinecolor": "#2a3f5f",
             "gridcolor": "white",
             "linecolor": "white",
             "minorgridcolor": "white",
             "startlinecolor": "#2a3f5f"
            },
            "baxis": {
             "endlinecolor": "#2a3f5f",
             "gridcolor": "white",
             "linecolor": "white",
             "minorgridcolor": "white",
             "startlinecolor": "#2a3f5f"
            },
            "type": "carpet"
           }
          ],
          "choropleth": [
           {
            "colorbar": {
             "outlinewidth": 0,
             "ticks": ""
            },
            "type": "choropleth"
           }
          ],
          "contour": [
           {
            "colorbar": {
             "outlinewidth": 0,
             "ticks": ""
            },
            "colorscale": [
             [
              0,
              "#0d0887"
             ],
             [
              0.1111111111111111,
              "#46039f"
             ],
             [
              0.2222222222222222,
              "#7201a8"
             ],
             [
              0.3333333333333333,
              "#9c179e"
             ],
             [
              0.4444444444444444,
              "#bd3786"
             ],
             [
              0.5555555555555556,
              "#d8576b"
             ],
             [
              0.6666666666666666,
              "#ed7953"
             ],
             [
              0.7777777777777778,
              "#fb9f3a"
             ],
             [
              0.8888888888888888,
              "#fdca26"
             ],
             [
              1,
              "#f0f921"
             ]
            ],
            "type": "contour"
           }
          ],
          "contourcarpet": [
           {
            "colorbar": {
             "outlinewidth": 0,
             "ticks": ""
            },
            "type": "contourcarpet"
           }
          ],
          "heatmap": [
           {
            "colorbar": {
             "outlinewidth": 0,
             "ticks": ""
            },
            "colorscale": [
             [
              0,
              "#0d0887"
             ],
             [
              0.1111111111111111,
              "#46039f"
             ],
             [
              0.2222222222222222,
              "#7201a8"
             ],
             [
              0.3333333333333333,
              "#9c179e"
             ],
             [
              0.4444444444444444,
              "#bd3786"
             ],
             [
              0.5555555555555556,
              "#d8576b"
             ],
             [
              0.6666666666666666,
              "#ed7953"
             ],
             [
              0.7777777777777778,
              "#fb9f3a"
             ],
             [
              0.8888888888888888,
              "#fdca26"
             ],
             [
              1,
              "#f0f921"
             ]
            ],
            "type": "heatmap"
           }
          ],
          "heatmapgl": [
           {
            "colorbar": {
             "outlinewidth": 0,
             "ticks": ""
            },
            "colorscale": [
             [
              0,
              "#0d0887"
             ],
             [
              0.1111111111111111,
              "#46039f"
             ],
             [
              0.2222222222222222,
              "#7201a8"
             ],
             [
              0.3333333333333333,
              "#9c179e"
             ],
             [
              0.4444444444444444,
              "#bd3786"
             ],
             [
              0.5555555555555556,
              "#d8576b"
             ],
             [
              0.6666666666666666,
              "#ed7953"
             ],
             [
              0.7777777777777778,
              "#fb9f3a"
             ],
             [
              0.8888888888888888,
              "#fdca26"
             ],
             [
              1,
              "#f0f921"
             ]
            ],
            "type": "heatmapgl"
           }
          ],
          "histogram": [
           {
            "marker": {
             "pattern": {
              "fillmode": "overlay",
              "size": 10,
              "solidity": 0.2
             }
            },
            "type": "histogram"
           }
          ],
          "histogram2d": [
           {
            "colorbar": {
             "outlinewidth": 0,
             "ticks": ""
            },
            "colorscale": [
             [
              0,
              "#0d0887"
             ],
             [
              0.1111111111111111,
              "#46039f"
             ],
             [
              0.2222222222222222,
              "#7201a8"
             ],
             [
              0.3333333333333333,
              "#9c179e"
             ],
             [
              0.4444444444444444,
              "#bd3786"
             ],
             [
              0.5555555555555556,
              "#d8576b"
             ],
             [
              0.6666666666666666,
              "#ed7953"
             ],
             [
              0.7777777777777778,
              "#fb9f3a"
             ],
             [
              0.8888888888888888,
              "#fdca26"
             ],
             [
              1,
              "#f0f921"
             ]
            ],
            "type": "histogram2d"
           }
          ],
          "histogram2dcontour": [
           {
            "colorbar": {
             "outlinewidth": 0,
             "ticks": ""
            },
            "colorscale": [
             [
              0,
              "#0d0887"
             ],
             [
              0.1111111111111111,
              "#46039f"
             ],
             [
              0.2222222222222222,
              "#7201a8"
             ],
             [
              0.3333333333333333,
              "#9c179e"
             ],
             [
              0.4444444444444444,
              "#bd3786"
             ],
             [
              0.5555555555555556,
              "#d8576b"
             ],
             [
              0.6666666666666666,
              "#ed7953"
             ],
             [
              0.7777777777777778,
              "#fb9f3a"
             ],
             [
              0.8888888888888888,
              "#fdca26"
             ],
             [
              1,
              "#f0f921"
             ]
            ],
            "type": "histogram2dcontour"
           }
          ],
          "mesh3d": [
           {
            "colorbar": {
             "outlinewidth": 0,
             "ticks": ""
            },
            "type": "mesh3d"
           }
          ],
          "parcoords": [
           {
            "line": {
             "colorbar": {
              "outlinewidth": 0,
              "ticks": ""
             }
            },
            "type": "parcoords"
           }
          ],
          "pie": [
           {
            "automargin": true,
            "type": "pie"
           }
          ],
          "scatter": [
           {
            "fillpattern": {
             "fillmode": "overlay",
             "size": 10,
             "solidity": 0.2
            },
            "type": "scatter"
           }
          ],
          "scatter3d": [
           {
            "line": {
             "colorbar": {
              "outlinewidth": 0,
              "ticks": ""
             }
            },
            "marker": {
             "colorbar": {
              "outlinewidth": 0,
              "ticks": ""
             }
            },
            "type": "scatter3d"
           }
          ],
          "scattercarpet": [
           {
            "marker": {
             "colorbar": {
              "outlinewidth": 0,
              "ticks": ""
             }
            },
            "type": "scattercarpet"
           }
          ],
          "scattergeo": [
           {
            "marker": {
             "colorbar": {
              "outlinewidth": 0,
              "ticks": ""
             }
            },
            "type": "scattergeo"
           }
          ],
          "scattergl": [
           {
            "marker": {
             "colorbar": {
              "outlinewidth": 0,
              "ticks": ""
             }
            },
            "type": "scattergl"
           }
          ],
          "scattermapbox": [
           {
            "marker": {
             "colorbar": {
              "outlinewidth": 0,
              "ticks": ""
             }
            },
            "type": "scattermapbox"
           }
          ],
          "scatterpolar": [
           {
            "marker": {
             "colorbar": {
              "outlinewidth": 0,
              "ticks": ""
             }
            },
            "type": "scatterpolar"
           }
          ],
          "scatterpolargl": [
           {
            "marker": {
             "colorbar": {
              "outlinewidth": 0,
              "ticks": ""
             }
            },
            "type": "scatterpolargl"
           }
          ],
          "scatterternary": [
           {
            "marker": {
             "colorbar": {
              "outlinewidth": 0,
              "ticks": ""
             }
            },
            "type": "scatterternary"
           }
          ],
          "surface": [
           {
            "colorbar": {
             "outlinewidth": 0,
             "ticks": ""
            },
            "colorscale": [
             [
              0,
              "#0d0887"
             ],
             [
              0.1111111111111111,
              "#46039f"
             ],
             [
              0.2222222222222222,
              "#7201a8"
             ],
             [
              0.3333333333333333,
              "#9c179e"
             ],
             [
              0.4444444444444444,
              "#bd3786"
             ],
             [
              0.5555555555555556,
              "#d8576b"
             ],
             [
              0.6666666666666666,
              "#ed7953"
             ],
             [
              0.7777777777777778,
              "#fb9f3a"
             ],
             [
              0.8888888888888888,
              "#fdca26"
             ],
             [
              1,
              "#f0f921"
             ]
            ],
            "type": "surface"
           }
          ],
          "table": [
           {
            "cells": {
             "fill": {
              "color": "#EBF0F8"
             },
             "line": {
              "color": "white"
             }
            },
            "header": {
             "fill": {
              "color": "#C8D4E3"
             },
             "line": {
              "color": "white"
             }
            },
            "type": "table"
           }
          ]
         },
         "layout": {
          "annotationdefaults": {
           "arrowcolor": "#2a3f5f",
           "arrowhead": 0,
           "arrowwidth": 1
          },
          "autotypenumbers": "strict",
          "coloraxis": {
           "colorbar": {
            "outlinewidth": 0,
            "ticks": ""
           }
          },
          "colorscale": {
           "diverging": [
            [
             0,
             "#8e0152"
            ],
            [
             0.1,
             "#c51b7d"
            ],
            [
             0.2,
             "#de77ae"
            ],
            [
             0.3,
             "#f1b6da"
            ],
            [
             0.4,
             "#fde0ef"
            ],
            [
             0.5,
             "#f7f7f7"
            ],
            [
             0.6,
             "#e6f5d0"
            ],
            [
             0.7,
             "#b8e186"
            ],
            [
             0.8,
             "#7fbc41"
            ],
            [
             0.9,
             "#4d9221"
            ],
            [
             1,
             "#276419"
            ]
           ],
           "sequential": [
            [
             0,
             "#0d0887"
            ],
            [
             0.1111111111111111,
             "#46039f"
            ],
            [
             0.2222222222222222,
             "#7201a8"
            ],
            [
             0.3333333333333333,
             "#9c179e"
            ],
            [
             0.4444444444444444,
             "#bd3786"
            ],
            [
             0.5555555555555556,
             "#d8576b"
            ],
            [
             0.6666666666666666,
             "#ed7953"
            ],
            [
             0.7777777777777778,
             "#fb9f3a"
            ],
            [
             0.8888888888888888,
             "#fdca26"
            ],
            [
             1,
             "#f0f921"
            ]
           ],
           "sequentialminus": [
            [
             0,
             "#0d0887"
            ],
            [
             0.1111111111111111,
             "#46039f"
            ],
            [
             0.2222222222222222,
             "#7201a8"
            ],
            [
             0.3333333333333333,
             "#9c179e"
            ],
            [
             0.4444444444444444,
             "#bd3786"
            ],
            [
             0.5555555555555556,
             "#d8576b"
            ],
            [
             0.6666666666666666,
             "#ed7953"
            ],
            [
             0.7777777777777778,
             "#fb9f3a"
            ],
            [
             0.8888888888888888,
             "#fdca26"
            ],
            [
             1,
             "#f0f921"
            ]
           ]
          },
          "colorway": [
           "#636efa",
           "#EF553B",
           "#00cc96",
           "#ab63fa",
           "#FFA15A",
           "#19d3f3",
           "#FF6692",
           "#B6E880",
           "#FF97FF",
           "#FECB52"
          ],
          "font": {
           "color": "#2a3f5f"
          },
          "geo": {
           "bgcolor": "white",
           "lakecolor": "white",
           "landcolor": "#E5ECF6",
           "showlakes": true,
           "showland": true,
           "subunitcolor": "white"
          },
          "hoverlabel": {
           "align": "left"
          },
          "hovermode": "closest",
          "mapbox": {
           "style": "light"
          },
          "paper_bgcolor": "white",
          "plot_bgcolor": "#E5ECF6",
          "polar": {
           "angularaxis": {
            "gridcolor": "white",
            "linecolor": "white",
            "ticks": ""
           },
           "bgcolor": "#E5ECF6",
           "radialaxis": {
            "gridcolor": "white",
            "linecolor": "white",
            "ticks": ""
           }
          },
          "scene": {
           "xaxis": {
            "backgroundcolor": "#E5ECF6",
            "gridcolor": "white",
            "gridwidth": 2,
            "linecolor": "white",
            "showbackground": true,
            "ticks": "",
            "zerolinecolor": "white"
           },
           "yaxis": {
            "backgroundcolor": "#E5ECF6",
            "gridcolor": "white",
            "gridwidth": 2,
            "linecolor": "white",
            "showbackground": true,
            "ticks": "",
            "zerolinecolor": "white"
           },
           "zaxis": {
            "backgroundcolor": "#E5ECF6",
            "gridcolor": "white",
            "gridwidth": 2,
            "linecolor": "white",
            "showbackground": true,
            "ticks": "",
            "zerolinecolor": "white"
           }
          },
          "shapedefaults": {
           "line": {
            "color": "#2a3f5f"
           }
          },
          "ternary": {
           "aaxis": {
            "gridcolor": "white",
            "linecolor": "white",
            "ticks": ""
           },
           "baxis": {
            "gridcolor": "white",
            "linecolor": "white",
            "ticks": ""
           },
           "bgcolor": "#E5ECF6",
           "caxis": {
            "gridcolor": "white",
            "linecolor": "white",
            "ticks": ""
           }
          },
          "title": {
           "x": 0.05
          },
          "xaxis": {
           "automargin": true,
           "gridcolor": "white",
           "linecolor": "white",
           "ticks": "",
           "title": {
            "standoff": 15
           },
           "zerolinecolor": "white",
           "zerolinewidth": 2
          },
          "yaxis": {
           "automargin": true,
           "gridcolor": "white",
           "linecolor": "white",
           "ticks": "",
           "title": {
            "standoff": 15
           },
           "zerolinecolor": "white",
           "zerolinewidth": 2
          }
         }
        },
        "title": {
         "text": "Interactive Scatter Plot: Math Score vs Reading Score"
        },
        "xaxis": {
         "anchor": "y",
         "domain": [
          0,
          1
         ],
         "title": {
          "text": "math score"
         }
        },
        "yaxis": {
         "anchor": "x",
         "domain": [
          0,
          1
         ],
         "title": {
          "text": "reading score"
         }
        }
       }
      }
     },
     "metadata": {},
     "output_type": "display_data"
    }
   ],
   "source": [
    "import plotly.express as px\n",
    "\n",
    "# Replace with actual column names\n",
    "fig = px.scatter(data, \n",
    "                 x=\"math score\", \n",
    "                 y=\"reading score\", \n",
    "                 color=\"gender\",  # Categorical column\n",
    "                 title=\"Interactive Scatter Plot: Math Score vs Reading Score\")\n",
    "fig.show()\n"
   ]
  },
  {
   "cell_type": "markdown",
   "metadata": {},
   "source": [
    "**Visualizations: Interactive Histogram**\n",
    "\n",
    "An interactive histogram is created to visualize the distribution of a numerical column (e.g., math score) and how it varies with respect to a categorical column (e.g., gender or lunch type). This allows for a deeper understanding of the data distribution."
   ]
  },
  {
   "cell_type": "markdown",
   "metadata": {},
   "source": [
    " Interactive Histogram"
   ]
  },
  {
   "cell_type": "code",
   "execution_count": 50,
   "metadata": {},
   "outputs": [
    {
     "data": {
      "application/vnd.plotly.v1+json": {
       "config": {
        "plotlyServerURL": "https://plot.ly"
       },
       "data": [
        {
         "alignmentgroup": "True",
         "bingroup": "x",
         "hovertemplate": "gender=female<br>math score=%{x}<br>count=%{y}<extra></extra>",
         "legendgroup": "female",
         "marker": {
          "color": "#636efa",
          "pattern": {
           "shape": ""
          }
         },
         "name": "female",
         "nbinsx": 20,
         "offsetgroup": "female",
         "orientation": "v",
         "showlegend": true,
         "type": "histogram",
         "x": [
          72,
          69,
          90,
          71,
          88,
          38,
          65,
          50,
          69,
          18,
          54,
          65,
          69,
          67,
          62,
          69,
          63,
          56,
          74,
          50,
          75,
          58,
          53,
          50,
          55,
          66,
          57,
          71,
          33,
          82,
          0,
          69,
          59,
          60,
          39,
          58,
          41,
          61,
          62,
          47,
          73,
          76,
          71,
          58,
          73,
          65,
          79,
          63,
          58,
          65,
          85,
          58,
          87,
          52,
          70,
          77,
          51,
          99,
          75,
          78,
          51,
          55,
          79,
          88,
          87,
          51,
          75,
          59,
          76,
          59,
          42,
          22,
          68,
          59,
          70,
          66,
          61,
          75,
          81,
          96,
          58,
          68,
          67,
          79,
          63,
          43,
          81,
          46,
          71,
          52,
          97,
          46,
          50,
          65,
          77,
          66,
          62,
          69,
          45,
          78,
          67,
          65,
          57,
          74,
          58,
          42,
          83,
          34,
          56,
          55,
          52,
          45,
          72,
          88,
          67,
          64,
          80,
          56,
          58,
          65,
          71,
          60,
          62,
          64,
          70,
          65,
          64,
          44,
          99,
          63,
          69,
          88,
          71,
          47,
          65,
          85,
          59,
          65,
          73,
          70,
          37,
          67,
          65,
          67,
          74,
          53,
          49,
          73,
          68,
          59,
          77,
          56,
          67,
          75,
          71,
          43,
          41,
          82,
          41,
          83,
          61,
          24,
          35,
          61,
          69,
          72,
          77,
          52,
          63,
          46,
          59,
          61,
          42,
          80,
          58,
          52,
          27,
          44,
          73,
          45,
          82,
          59,
          80,
          85,
          71,
          80,
          38,
          38,
          67,
          64,
          57,
          62,
          77,
          65,
          50,
          85,
          59,
          49,
          88,
          54,
          63,
          82,
          52,
          70,
          51,
          82,
          57,
          47,
          59,
          62,
          61,
          47,
          67,
          78,
          59,
          73,
          67,
          64,
          100,
          65,
          53,
          79,
          100,
          71,
          77,
          84,
          26,
          77,
          83,
          63,
          68,
          59,
          90,
          71,
          55,
          52,
          49,
          60,
          65,
          64,
          83,
          81,
          54,
          54,
          59,
          66,
          74,
          94,
          95,
          40,
          82,
          86,
          54,
          77,
          76,
          74,
          66,
          66,
          67,
          91,
          36,
          29,
          62,
          68,
          47,
          79,
          66,
          51,
          81,
          82,
          64,
          92,
          62,
          40,
          32,
          55,
          53,
          74,
          63,
          63,
          92,
          61,
          53,
          50,
          74,
          81,
          48,
          53,
          81,
          77,
          63,
          73,
          69,
          65,
          55,
          44,
          54,
          48,
          74,
          92,
          56,
          69,
          65,
          54,
          29,
          76,
          85,
          40,
          61,
          58,
          58,
          65,
          82,
          60,
          37,
          35,
          61,
          44,
          66,
          75,
          67,
          80,
          76,
          74,
          72,
          74,
          65,
          59,
          64,
          50,
          69,
          68,
          85,
          65,
          73,
          62,
          43,
          55,
          65,
          50,
          63,
          77,
          66,
          69,
          65,
          69,
          50,
          73,
          70,
          67,
          29,
          94,
          49,
          73,
          66,
          77,
          49,
          79,
          75,
          59,
          57,
          79,
          57,
          63,
          59,
          42,
          80,
          98,
          60,
          76,
          96,
          76,
          62,
          74,
          65,
          73,
          68,
          87,
          53,
          53,
          37,
          81,
          59,
          50,
          77,
          84,
          52,
          53,
          48,
          62,
          74,
          58,
          68,
          52,
          62,
          49,
          66,
          35,
          72,
          46,
          77,
          76,
          52,
          32,
          72,
          19,
          52,
          48,
          60,
          42,
          57,
          70,
          52,
          87,
          82,
          73,
          64,
          41,
          54,
          72,
          45,
          60,
          77,
          85,
          78,
          71,
          48,
          56,
          65,
          69,
          61,
          74,
          77,
          60,
          75,
          66,
          39,
          23,
          40,
          59,
          61,
          87,
          97,
          65,
          53,
          81,
          71,
          70,
          43,
          59,
          64,
          71,
          64,
          51,
          62,
          93,
          69,
          86,
          85,
          50,
          59,
          32,
          63,
          65,
          73,
          34,
          93,
          67,
          79,
          67,
          69,
          52,
          47,
          46,
          68,
          44,
          57,
          35,
          54,
          65,
          48,
          57,
          78,
          58,
          54,
          49,
          57,
          75,
          74,
          62,
          92,
          45,
          56,
          48,
          100,
          65,
          62,
          68,
          75,
          89,
          53,
          49,
          54,
          64,
          91,
          8,
          78,
          74,
          40,
          44,
          67,
          65,
          55,
          62,
          88,
          59,
          68,
          77
         ],
         "xaxis": "x",
         "yaxis": "y"
        },
        {
         "alignmentgroup": "True",
         "bingroup": "x",
         "hovertemplate": "gender=male<br>math score=%{x}<br>count=%{y}<extra></extra>",
         "legendgroup": "male",
         "marker": {
          "color": "#EF553B",
          "pattern": {
           "shape": ""
          }
         },
         "name": "male",
         "nbinsx": 20,
         "offsetgroup": "male",
         "orientation": "v",
         "showlegend": true,
         "type": "histogram",
         "x": [
          47,
          76,
          40,
          64,
          58,
          40,
          78,
          88,
          46,
          66,
          44,
          74,
          73,
          69,
          70,
          40,
          97,
          81,
          57,
          55,
          59,
          65,
          82,
          53,
          77,
          53,
          88,
          52,
          58,
          79,
          39,
          62,
          67,
          45,
          61,
          63,
          61,
          49,
          44,
          30,
          80,
          49,
          50,
          72,
          42,
          27,
          71,
          43,
          78,
          65,
          79,
          68,
          60,
          98,
          66,
          62,
          54,
          84,
          91,
          63,
          83,
          72,
          65,
          82,
          89,
          53,
          87,
          74,
          58,
          51,
          70,
          71,
          57,
          88,
          88,
          73,
          100,
          62,
          77,
          54,
          62,
          60,
          66,
          82,
          49,
          52,
          53,
          72,
          94,
          62,
          45,
          65,
          80,
          62,
          48,
          76,
          77,
          61,
          59,
          55,
          69,
          59,
          74,
          82,
          81,
          80,
          35,
          60,
          87,
          84,
          66,
          61,
          87,
          86,
          57,
          68,
          76,
          46,
          92,
          83,
          80,
          63,
          54,
          84,
          73,
          59,
          75,
          85,
          89,
          68,
          47,
          80,
          54,
          78,
          79,
          76,
          59,
          69,
          58,
          88,
          83,
          73,
          53,
          45,
          81,
          97,
          88,
          77,
          76,
          86,
          63,
          78,
          67,
          46,
          71,
          40,
          90,
          81,
          56,
          80,
          69,
          99,
          51,
          66,
          67,
          71,
          83,
          63,
          61,
          28,
          82,
          71,
          47,
          62,
          90,
          76,
          49,
          58,
          67,
          79,
          62,
          75,
          87,
          66,
          63,
          59,
          85,
          59,
          49,
          69,
          61,
          84,
          74,
          46,
          66,
          87,
          79,
          73,
          73,
          76,
          57,
          48,
          74,
          60,
          53,
          65,
          87,
          84,
          71,
          63,
          84,
          71,
          74,
          68,
          57,
          41,
          86,
          69,
          65,
          68,
          64,
          61,
          73,
          50,
          75,
          75,
          70,
          89,
          79,
          69,
          86,
          47,
          81,
          65,
          37,
          53,
          72,
          53,
          54,
          75,
          72,
          91,
          76,
          80,
          76,
          73,
          68,
          59,
          70,
          61,
          64,
          79,
          68,
          76,
          63,
          68,
          55,
          79,
          76,
          64,
          62,
          71,
          69,
          54,
          53,
          68,
          56,
          62,
          73,
          51,
          85,
          97,
          75,
          79,
          78,
          72,
          79,
          79,
          87,
          77,
          53,
          61,
          73,
          96,
          48,
          48,
          63,
          68,
          71,
          91,
          40,
          61,
          58,
          71,
          68,
          30,
          53,
          60,
          84,
          75,
          69,
          94,
          88,
          95,
          65,
          62,
          58,
          100,
          100,
          69,
          61,
          49,
          67,
          79,
          84,
          71,
          86,
          41,
          70,
          51,
          77,
          69,
          90,
          74,
          73,
          80,
          73,
          81,
          52,
          81,
          63,
          60,
          62,
          62,
          85,
          77,
          53,
          93,
          66,
          87,
          62,
          46,
          66,
          89,
          93,
          81,
          73,
          91,
          55,
          50,
          47,
          81,
          68,
          53,
          55,
          55,
          67,
          92,
          81,
          61,
          80,
          55,
          72,
          69,
          69,
          87,
          71,
          68,
          79,
          58,
          55,
          70,
          69,
          78,
          60,
          76,
          58,
          52,
          75,
          66,
          94,
          91,
          68,
          66,
          89,
          70,
          69,
          67,
          76,
          75,
          90,
          59,
          51,
          45,
          87,
          94,
          61,
          49,
          62,
          68,
          64,
          58,
          73,
          58,
          64,
          74,
          90,
          91,
          64,
          80,
          71,
          82,
          62,
          75,
          52,
          87,
          39,
          97,
          82,
          59,
          61,
          78,
          49,
          59,
          82,
          90,
          80,
          81,
          57,
          63,
          55,
          54,
          44,
          88,
          36,
          67,
          85,
          88,
          57,
          70,
          50,
          100,
          91,
          69,
          72,
          74,
          74,
          64,
          46,
          67,
          62,
          61,
          70,
          98,
          70,
          67,
          85,
          77,
          72,
          81,
          61,
          82,
          49,
          94,
          58,
          72,
          84,
          75,
          72,
          66,
          63,
          78,
          60,
          62,
          55,
          81,
          79,
          57,
          81,
          86,
          63,
          62
         ],
         "xaxis": "x",
         "yaxis": "y"
        }
       ],
       "layout": {
        "barmode": "relative",
        "legend": {
         "title": {
          "text": "gender"
         },
         "tracegroupgap": 0
        },
        "template": {
         "data": {
          "bar": [
           {
            "error_x": {
             "color": "#2a3f5f"
            },
            "error_y": {
             "color": "#2a3f5f"
            },
            "marker": {
             "line": {
              "color": "#E5ECF6",
              "width": 0.5
             },
             "pattern": {
              "fillmode": "overlay",
              "size": 10,
              "solidity": 0.2
             }
            },
            "type": "bar"
           }
          ],
          "barpolar": [
           {
            "marker": {
             "line": {
              "color": "#E5ECF6",
              "width": 0.5
             },
             "pattern": {
              "fillmode": "overlay",
              "size": 10,
              "solidity": 0.2
             }
            },
            "type": "barpolar"
           }
          ],
          "carpet": [
           {
            "aaxis": {
             "endlinecolor": "#2a3f5f",
             "gridcolor": "white",
             "linecolor": "white",
             "minorgridcolor": "white",
             "startlinecolor": "#2a3f5f"
            },
            "baxis": {
             "endlinecolor": "#2a3f5f",
             "gridcolor": "white",
             "linecolor": "white",
             "minorgridcolor": "white",
             "startlinecolor": "#2a3f5f"
            },
            "type": "carpet"
           }
          ],
          "choropleth": [
           {
            "colorbar": {
             "outlinewidth": 0,
             "ticks": ""
            },
            "type": "choropleth"
           }
          ],
          "contour": [
           {
            "colorbar": {
             "outlinewidth": 0,
             "ticks": ""
            },
            "colorscale": [
             [
              0,
              "#0d0887"
             ],
             [
              0.1111111111111111,
              "#46039f"
             ],
             [
              0.2222222222222222,
              "#7201a8"
             ],
             [
              0.3333333333333333,
              "#9c179e"
             ],
             [
              0.4444444444444444,
              "#bd3786"
             ],
             [
              0.5555555555555556,
              "#d8576b"
             ],
             [
              0.6666666666666666,
              "#ed7953"
             ],
             [
              0.7777777777777778,
              "#fb9f3a"
             ],
             [
              0.8888888888888888,
              "#fdca26"
             ],
             [
              1,
              "#f0f921"
             ]
            ],
            "type": "contour"
           }
          ],
          "contourcarpet": [
           {
            "colorbar": {
             "outlinewidth": 0,
             "ticks": ""
            },
            "type": "contourcarpet"
           }
          ],
          "heatmap": [
           {
            "colorbar": {
             "outlinewidth": 0,
             "ticks": ""
            },
            "colorscale": [
             [
              0,
              "#0d0887"
             ],
             [
              0.1111111111111111,
              "#46039f"
             ],
             [
              0.2222222222222222,
              "#7201a8"
             ],
             [
              0.3333333333333333,
              "#9c179e"
             ],
             [
              0.4444444444444444,
              "#bd3786"
             ],
             [
              0.5555555555555556,
              "#d8576b"
             ],
             [
              0.6666666666666666,
              "#ed7953"
             ],
             [
              0.7777777777777778,
              "#fb9f3a"
             ],
             [
              0.8888888888888888,
              "#fdca26"
             ],
             [
              1,
              "#f0f921"
             ]
            ],
            "type": "heatmap"
           }
          ],
          "heatmapgl": [
           {
            "colorbar": {
             "outlinewidth": 0,
             "ticks": ""
            },
            "colorscale": [
             [
              0,
              "#0d0887"
             ],
             [
              0.1111111111111111,
              "#46039f"
             ],
             [
              0.2222222222222222,
              "#7201a8"
             ],
             [
              0.3333333333333333,
              "#9c179e"
             ],
             [
              0.4444444444444444,
              "#bd3786"
             ],
             [
              0.5555555555555556,
              "#d8576b"
             ],
             [
              0.6666666666666666,
              "#ed7953"
             ],
             [
              0.7777777777777778,
              "#fb9f3a"
             ],
             [
              0.8888888888888888,
              "#fdca26"
             ],
             [
              1,
              "#f0f921"
             ]
            ],
            "type": "heatmapgl"
           }
          ],
          "histogram": [
           {
            "marker": {
             "pattern": {
              "fillmode": "overlay",
              "size": 10,
              "solidity": 0.2
             }
            },
            "type": "histogram"
           }
          ],
          "histogram2d": [
           {
            "colorbar": {
             "outlinewidth": 0,
             "ticks": ""
            },
            "colorscale": [
             [
              0,
              "#0d0887"
             ],
             [
              0.1111111111111111,
              "#46039f"
             ],
             [
              0.2222222222222222,
              "#7201a8"
             ],
             [
              0.3333333333333333,
              "#9c179e"
             ],
             [
              0.4444444444444444,
              "#bd3786"
             ],
             [
              0.5555555555555556,
              "#d8576b"
             ],
             [
              0.6666666666666666,
              "#ed7953"
             ],
             [
              0.7777777777777778,
              "#fb9f3a"
             ],
             [
              0.8888888888888888,
              "#fdca26"
             ],
             [
              1,
              "#f0f921"
             ]
            ],
            "type": "histogram2d"
           }
          ],
          "histogram2dcontour": [
           {
            "colorbar": {
             "outlinewidth": 0,
             "ticks": ""
            },
            "colorscale": [
             [
              0,
              "#0d0887"
             ],
             [
              0.1111111111111111,
              "#46039f"
             ],
             [
              0.2222222222222222,
              "#7201a8"
             ],
             [
              0.3333333333333333,
              "#9c179e"
             ],
             [
              0.4444444444444444,
              "#bd3786"
             ],
             [
              0.5555555555555556,
              "#d8576b"
             ],
             [
              0.6666666666666666,
              "#ed7953"
             ],
             [
              0.7777777777777778,
              "#fb9f3a"
             ],
             [
              0.8888888888888888,
              "#fdca26"
             ],
             [
              1,
              "#f0f921"
             ]
            ],
            "type": "histogram2dcontour"
           }
          ],
          "mesh3d": [
           {
            "colorbar": {
             "outlinewidth": 0,
             "ticks": ""
            },
            "type": "mesh3d"
           }
          ],
          "parcoords": [
           {
            "line": {
             "colorbar": {
              "outlinewidth": 0,
              "ticks": ""
             }
            },
            "type": "parcoords"
           }
          ],
          "pie": [
           {
            "automargin": true,
            "type": "pie"
           }
          ],
          "scatter": [
           {
            "fillpattern": {
             "fillmode": "overlay",
             "size": 10,
             "solidity": 0.2
            },
            "type": "scatter"
           }
          ],
          "scatter3d": [
           {
            "line": {
             "colorbar": {
              "outlinewidth": 0,
              "ticks": ""
             }
            },
            "marker": {
             "colorbar": {
              "outlinewidth": 0,
              "ticks": ""
             }
            },
            "type": "scatter3d"
           }
          ],
          "scattercarpet": [
           {
            "marker": {
             "colorbar": {
              "outlinewidth": 0,
              "ticks": ""
             }
            },
            "type": "scattercarpet"
           }
          ],
          "scattergeo": [
           {
            "marker": {
             "colorbar": {
              "outlinewidth": 0,
              "ticks": ""
             }
            },
            "type": "scattergeo"
           }
          ],
          "scattergl": [
           {
            "marker": {
             "colorbar": {
              "outlinewidth": 0,
              "ticks": ""
             }
            },
            "type": "scattergl"
           }
          ],
          "scattermapbox": [
           {
            "marker": {
             "colorbar": {
              "outlinewidth": 0,
              "ticks": ""
             }
            },
            "type": "scattermapbox"
           }
          ],
          "scatterpolar": [
           {
            "marker": {
             "colorbar": {
              "outlinewidth": 0,
              "ticks": ""
             }
            },
            "type": "scatterpolar"
           }
          ],
          "scatterpolargl": [
           {
            "marker": {
             "colorbar": {
              "outlinewidth": 0,
              "ticks": ""
             }
            },
            "type": "scatterpolargl"
           }
          ],
          "scatterternary": [
           {
            "marker": {
             "colorbar": {
              "outlinewidth": 0,
              "ticks": ""
             }
            },
            "type": "scatterternary"
           }
          ],
          "surface": [
           {
            "colorbar": {
             "outlinewidth": 0,
             "ticks": ""
            },
            "colorscale": [
             [
              0,
              "#0d0887"
             ],
             [
              0.1111111111111111,
              "#46039f"
             ],
             [
              0.2222222222222222,
              "#7201a8"
             ],
             [
              0.3333333333333333,
              "#9c179e"
             ],
             [
              0.4444444444444444,
              "#bd3786"
             ],
             [
              0.5555555555555556,
              "#d8576b"
             ],
             [
              0.6666666666666666,
              "#ed7953"
             ],
             [
              0.7777777777777778,
              "#fb9f3a"
             ],
             [
              0.8888888888888888,
              "#fdca26"
             ],
             [
              1,
              "#f0f921"
             ]
            ],
            "type": "surface"
           }
          ],
          "table": [
           {
            "cells": {
             "fill": {
              "color": "#EBF0F8"
             },
             "line": {
              "color": "white"
             }
            },
            "header": {
             "fill": {
              "color": "#C8D4E3"
             },
             "line": {
              "color": "white"
             }
            },
            "type": "table"
           }
          ]
         },
         "layout": {
          "annotationdefaults": {
           "arrowcolor": "#2a3f5f",
           "arrowhead": 0,
           "arrowwidth": 1
          },
          "autotypenumbers": "strict",
          "coloraxis": {
           "colorbar": {
            "outlinewidth": 0,
            "ticks": ""
           }
          },
          "colorscale": {
           "diverging": [
            [
             0,
             "#8e0152"
            ],
            [
             0.1,
             "#c51b7d"
            ],
            [
             0.2,
             "#de77ae"
            ],
            [
             0.3,
             "#f1b6da"
            ],
            [
             0.4,
             "#fde0ef"
            ],
            [
             0.5,
             "#f7f7f7"
            ],
            [
             0.6,
             "#e6f5d0"
            ],
            [
             0.7,
             "#b8e186"
            ],
            [
             0.8,
             "#7fbc41"
            ],
            [
             0.9,
             "#4d9221"
            ],
            [
             1,
             "#276419"
            ]
           ],
           "sequential": [
            [
             0,
             "#0d0887"
            ],
            [
             0.1111111111111111,
             "#46039f"
            ],
            [
             0.2222222222222222,
             "#7201a8"
            ],
            [
             0.3333333333333333,
             "#9c179e"
            ],
            [
             0.4444444444444444,
             "#bd3786"
            ],
            [
             0.5555555555555556,
             "#d8576b"
            ],
            [
             0.6666666666666666,
             "#ed7953"
            ],
            [
             0.7777777777777778,
             "#fb9f3a"
            ],
            [
             0.8888888888888888,
             "#fdca26"
            ],
            [
             1,
             "#f0f921"
            ]
           ],
           "sequentialminus": [
            [
             0,
             "#0d0887"
            ],
            [
             0.1111111111111111,
             "#46039f"
            ],
            [
             0.2222222222222222,
             "#7201a8"
            ],
            [
             0.3333333333333333,
             "#9c179e"
            ],
            [
             0.4444444444444444,
             "#bd3786"
            ],
            [
             0.5555555555555556,
             "#d8576b"
            ],
            [
             0.6666666666666666,
             "#ed7953"
            ],
            [
             0.7777777777777778,
             "#fb9f3a"
            ],
            [
             0.8888888888888888,
             "#fdca26"
            ],
            [
             1,
             "#f0f921"
            ]
           ]
          },
          "colorway": [
           "#636efa",
           "#EF553B",
           "#00cc96",
           "#ab63fa",
           "#FFA15A",
           "#19d3f3",
           "#FF6692",
           "#B6E880",
           "#FF97FF",
           "#FECB52"
          ],
          "font": {
           "color": "#2a3f5f"
          },
          "geo": {
           "bgcolor": "white",
           "lakecolor": "white",
           "landcolor": "#E5ECF6",
           "showlakes": true,
           "showland": true,
           "subunitcolor": "white"
          },
          "hoverlabel": {
           "align": "left"
          },
          "hovermode": "closest",
          "mapbox": {
           "style": "light"
          },
          "paper_bgcolor": "white",
          "plot_bgcolor": "#E5ECF6",
          "polar": {
           "angularaxis": {
            "gridcolor": "white",
            "linecolor": "white",
            "ticks": ""
           },
           "bgcolor": "#E5ECF6",
           "radialaxis": {
            "gridcolor": "white",
            "linecolor": "white",
            "ticks": ""
           }
          },
          "scene": {
           "xaxis": {
            "backgroundcolor": "#E5ECF6",
            "gridcolor": "white",
            "gridwidth": 2,
            "linecolor": "white",
            "showbackground": true,
            "ticks": "",
            "zerolinecolor": "white"
           },
           "yaxis": {
            "backgroundcolor": "#E5ECF6",
            "gridcolor": "white",
            "gridwidth": 2,
            "linecolor": "white",
            "showbackground": true,
            "ticks": "",
            "zerolinecolor": "white"
           },
           "zaxis": {
            "backgroundcolor": "#E5ECF6",
            "gridcolor": "white",
            "gridwidth": 2,
            "linecolor": "white",
            "showbackground": true,
            "ticks": "",
            "zerolinecolor": "white"
           }
          },
          "shapedefaults": {
           "line": {
            "color": "#2a3f5f"
           }
          },
          "ternary": {
           "aaxis": {
            "gridcolor": "white",
            "linecolor": "white",
            "ticks": ""
           },
           "baxis": {
            "gridcolor": "white",
            "linecolor": "white",
            "ticks": ""
           },
           "bgcolor": "#E5ECF6",
           "caxis": {
            "gridcolor": "white",
            "linecolor": "white",
            "ticks": ""
           }
          },
          "title": {
           "x": 0.05
          },
          "xaxis": {
           "automargin": true,
           "gridcolor": "white",
           "linecolor": "white",
           "ticks": "",
           "title": {
            "standoff": 15
           },
           "zerolinecolor": "white",
           "zerolinewidth": 2
          },
          "yaxis": {
           "automargin": true,
           "gridcolor": "white",
           "linecolor": "white",
           "ticks": "",
           "title": {
            "standoff": 15
           },
           "zerolinecolor": "white",
           "zerolinewidth": 2
          }
         }
        },
        "title": {
         "text": "Interactive Histogram: Distribution of Math Scores by Gender"
        },
        "xaxis": {
         "anchor": "y",
         "domain": [
          0,
          1
         ],
         "title": {
          "text": "math score"
         }
        },
        "yaxis": {
         "anchor": "x",
         "domain": [
          0,
          1
         ],
         "title": {
          "text": "count"
         }
        }
       }
      }
     },
     "metadata": {},
     "output_type": "display_data"
    }
   ],
   "source": [
    "import plotly.express as px\n",
    "\n",
    "# Replace with actual column names\n",
    "fig = px.histogram(data, \n",
    "                   x=\"math score\",  # Replace with a numeric column\n",
    "                   color=\"gender\",  # Replace with a categorical column\n",
    "                   title=\"Interactive Histogram: Distribution of Math Scores by Gender\", \n",
    "                   nbins=20)  # Adjust the number of bins as needed\n",
    "fig.show()\n"
   ]
  }
 ],
 "metadata": {
  "kernelspec": {
   "display_name": "base",
   "language": "python",
   "name": "python3"
  },
  "language_info": {
   "codemirror_mode": {
    "name": "ipython",
    "version": 3
   },
   "file_extension": ".py",
   "mimetype": "text/x-python",
   "name": "python",
   "nbconvert_exporter": "python",
   "pygments_lexer": "ipython3",
   "version": "3.12.4"
  }
 },
 "nbformat": 4,
 "nbformat_minor": 2
}
